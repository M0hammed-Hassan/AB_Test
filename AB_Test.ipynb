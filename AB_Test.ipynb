{
 "cells": [
  {
   "cell_type": "markdown",
   "id": "45aec731",
   "metadata": {},
   "source": [
    "# Libraries"
   ]
  },
  {
   "cell_type": "code",
   "execution_count": 1,
   "id": "3ae0eb70",
   "metadata": {},
   "outputs": [],
   "source": [
    "import numpy as np\n",
    "import pandas as pd\n",
    "import matplotlib.pyplot as plt"
   ]
  },
  {
   "cell_type": "markdown",
   "id": "610787b7",
   "metadata": {},
   "source": [
    "# Reading The Data"
   ]
  },
  {
   "cell_type": "code",
   "execution_count": 2,
   "id": "4fbccc4c",
   "metadata": {},
   "outputs": [],
   "source": [
    "df=pd.read_csv(\"classroom_actions.csv\")"
   ]
  },
  {
   "cell_type": "code",
   "execution_count": 3,
   "id": "d507242b",
   "metadata": {},
   "outputs": [
    {
     "data": {
      "text/html": [
       "<div>\n",
       "<style scoped>\n",
       "    .dataframe tbody tr th:only-of-type {\n",
       "        vertical-align: middle;\n",
       "    }\n",
       "\n",
       "    .dataframe tbody tr th {\n",
       "        vertical-align: top;\n",
       "    }\n",
       "\n",
       "    .dataframe thead th {\n",
       "        text-align: right;\n",
       "    }\n",
       "</style>\n",
       "<table border=\"1\" class=\"dataframe\">\n",
       "  <thead>\n",
       "    <tr style=\"text-align: right;\">\n",
       "      <th></th>\n",
       "      <th>timestamp</th>\n",
       "      <th>id</th>\n",
       "      <th>group</th>\n",
       "      <th>total_days</th>\n",
       "      <th>completed</th>\n",
       "    </tr>\n",
       "  </thead>\n",
       "  <tbody>\n",
       "    <tr>\n",
       "      <th>0</th>\n",
       "      <td>2015-08-10 17:06:01.032740</td>\n",
       "      <td>610019</td>\n",
       "      <td>experiment</td>\n",
       "      <td>97</td>\n",
       "      <td>True</td>\n",
       "    </tr>\n",
       "    <tr>\n",
       "      <th>1</th>\n",
       "      <td>2015-08-10 17:15:28.950975</td>\n",
       "      <td>690224</td>\n",
       "      <td>control</td>\n",
       "      <td>75</td>\n",
       "      <td>False</td>\n",
       "    </tr>\n",
       "    <tr>\n",
       "      <th>2</th>\n",
       "      <td>2015-08-10 17:34:40.920384</td>\n",
       "      <td>564994</td>\n",
       "      <td>experiment</td>\n",
       "      <td>128</td>\n",
       "      <td>True</td>\n",
       "    </tr>\n",
       "    <tr>\n",
       "      <th>3</th>\n",
       "      <td>2015-08-10 17:50:39.847374</td>\n",
       "      <td>849588</td>\n",
       "      <td>experiment</td>\n",
       "      <td>66</td>\n",
       "      <td>False</td>\n",
       "    </tr>\n",
       "    <tr>\n",
       "      <th>4</th>\n",
       "      <td>2015-08-10 19:10:40.650599</td>\n",
       "      <td>849826</td>\n",
       "      <td>experiment</td>\n",
       "      <td>34</td>\n",
       "      <td>False</td>\n",
       "    </tr>\n",
       "  </tbody>\n",
       "</table>\n",
       "</div>"
      ],
      "text/plain": [
       "                    timestamp      id       group  total_days  completed\n",
       "0  2015-08-10 17:06:01.032740  610019  experiment          97       True\n",
       "1  2015-08-10 17:15:28.950975  690224     control          75      False\n",
       "2  2015-08-10 17:34:40.920384  564994  experiment         128       True\n",
       "3  2015-08-10 17:50:39.847374  849588  experiment          66      False\n",
       "4  2015-08-10 19:10:40.650599  849826  experiment          34      False"
      ]
     },
     "execution_count": 3,
     "metadata": {},
     "output_type": "execute_result"
    }
   ],
   "source": [
    "#Displaying first five rows from the dataset\n",
    "df.head()"
   ]
  },
  {
   "cell_type": "code",
   "execution_count": 4,
   "id": "5919be8c",
   "metadata": {},
   "outputs": [
    {
     "data": {
      "text/plain": [
       "(3829, 5)"
      ]
     },
     "execution_count": 4,
     "metadata": {},
     "output_type": "execute_result"
    }
   ],
   "source": [
    "#The shape of the dataset\n",
    "df.shape"
   ]
  },
  {
   "cell_type": "markdown",
   "id": "fd3c633e",
   "metadata": {},
   "source": [
    "# Alternative Hypothesis (Ha)"
   ]
  },
  {
   "cell_type": "code",
   "execution_count": 5,
   "id": "509953a1",
   "metadata": {},
   "outputs": [],
   "source": [
    "#The average of the total days for the experiment group\n",
    "expr_toda_avg=df[df['group']==\"experiment\"]['total_days'].mean()"
   ]
  },
  {
   "cell_type": "code",
   "execution_count": 6,
   "id": "ae30303a",
   "metadata": {},
   "outputs": [
    {
     "data": {
      "text/plain": [
       "74.6715935334873"
      ]
     },
     "execution_count": 6,
     "metadata": {},
     "output_type": "execute_result"
    }
   ],
   "source": [
    "expr_toda_avg"
   ]
  },
  {
   "cell_type": "code",
   "execution_count": 7,
   "id": "4bd7d796",
   "metadata": {},
   "outputs": [],
   "source": [
    "#The average of the total days for the control group\n",
    "ctr_toda_avg=df[df[\"group\"]==\"control\"][\"total_days\"].mean()"
   ]
  },
  {
   "cell_type": "code",
   "execution_count": 8,
   "id": "0f868a9b",
   "metadata": {},
   "outputs": [
    {
     "data": {
      "text/plain": [
       "73.36899038461539"
      ]
     },
     "execution_count": 8,
     "metadata": {},
     "output_type": "execute_result"
    }
   ],
   "source": [
    "ctr_toda_avg"
   ]
  },
  {
   "cell_type": "code",
   "execution_count": 9,
   "id": "ee1e4f24",
   "metadata": {},
   "outputs": [
    {
     "data": {
      "text/plain": [
       "1.3026031488719099"
      ]
     },
     "execution_count": 9,
     "metadata": {},
     "output_type": "execute_result"
    }
   ],
   "source": [
    "#The difference between experiment and control group\n",
    "altr_hypo=expr_toda_avg - ctr_toda_avg\n",
    "altr_hypo"
   ]
  },
  {
   "cell_type": "markdown",
   "id": "3177b566",
   "metadata": {},
   "source": [
    "- The observed difference for the (Ha) > 0, we can say the null hypothesis(H0) <=0."
   ]
  },
  {
   "cell_type": "markdown",
   "id": "f1b55716",
   "metadata": {},
   "source": [
    "- The result from the difference also saying there are an update happened, it's positive and good update."
   ]
  },
  {
   "cell_type": "markdown",
   "id": "40245a36",
   "metadata": {},
   "source": [
    "# Creating The Population"
   ]
  },
  {
   "cell_type": "code",
   "execution_count": 10,
   "id": "4c3136f9",
   "metadata": {},
   "outputs": [],
   "source": [
    "diffs=[]\n",
    "for i in range(15000):\n",
    "    sample=df.sample(df.shape[0],replace=True)\n",
    "    diff=(sample[sample[\"group\"]==\"experiment\"][\"total_days\"].mean())-(sample[sample[\"group\"]==\"control\"][\"total_days\"].mean())\n",
    "    diffs.append(diff)"
   ]
  },
  {
   "cell_type": "code",
   "execution_count": 11,
   "id": "a5bd99c3",
   "metadata": {},
   "outputs": [
    {
     "data": {
      "image/png": "[encoded data removed]",
      "text/plain": [
       "<Figure size 432x288 with 1 Axes>"
      ]
     },
     "metadata": {
      "needs_background": "light"
     },
     "output_type": "display_data"
    }
   ],
   "source": [
    "#Plotting the population\n",
    "plt.hist(diffs);"
   ]
  },
  {
   "cell_type": "markdown",
   "id": "1dc6da10",
   "metadata": {},
   "source": [
    "- The normal distribution for the observed differences."
   ]
  },
  {
   "cell_type": "markdown",
   "id": "6c64a812",
   "metadata": {},
   "source": [
    "# Creating H0 Population"
   ]
  },
  {
   "cell_type": "code",
   "execution_count": 12,
   "id": "63cf57a4",
   "metadata": {},
   "outputs": [
    {
     "data": {
      "text/plain": [
       "0.7330604854118027"
      ]
     },
     "execution_count": 12,
     "metadata": {},
     "output_type": "execute_result"
    }
   ],
   "source": [
    "#Getting the standard deviation for the diffs \n",
    "diffs_std=np.array(diffs).std()\n",
    "diffs_std"
   ]
  },
  {
   "cell_type": "code",
   "execution_count": 13,
   "id": "23e65595",
   "metadata": {},
   "outputs": [
    {
     "data": {
      "text/plain": [
       "array([ 1.18609764,  0.08142689, -0.16757957, ..., -0.19329164,\n",
       "        1.56232075, -0.71179559])"
      ]
     },
     "execution_count": 13,
     "metadata": {},
     "output_type": "execute_result"
    }
   ],
   "source": [
    "H0_values=np.random.normal(0,diffs_std,len(diffs))\n",
    "H0_values"
   ]
  },
  {
   "cell_type": "code",
   "execution_count": 14,
   "id": "df79426d",
   "metadata": {},
   "outputs": [
    {
     "data": {
      "image/png": "[encoded data removed]",
      "text/plain": [
       "<Figure size 432x288 with 1 Axes>"
      ]
     },
     "metadata": {
      "needs_background": "light"
     },
     "output_type": "display_data"
    }
   ],
   "source": [
    "plt.axvline(H0_values.mean(),c='red')\n",
    "plt.hist(H0_values);"
   ]
  },
  {
   "cell_type": "markdown",
   "id": "ac123e17",
   "metadata": {},
   "source": [
    "- Null hypothesis distribution with mean equal to zero."
   ]
  },
  {
   "cell_type": "code",
   "execution_count": 15,
   "id": "2e3e5655",
   "metadata": {},
   "outputs": [
    {
     "data": {
      "image/png": "[encoded data removed]",
      "text/plain": [
       "<Figure size 432x288 with 1 Axes>"
      ]
     },
     "metadata": {
      "needs_background": "light"
     },
     "output_type": "display_data"
    }
   ],
   "source": [
    "#The observed difference with the H0 distribution\n",
    "plt.axvline(altr_hypo,c='red')\n",
    "plt.hist(H0_values);"
   ]
  },
  {
   "cell_type": "code",
   "execution_count": 18,
   "id": "387d8705",
   "metadata": {},
   "outputs": [
    {
     "data": {
      "text/plain": [
       "0.0354"
      ]
     },
     "execution_count": 18,
     "metadata": {},
     "output_type": "execute_result"
    }
   ],
   "source": [
    "#Testing if p_value < 5% or p_value> 5%\n",
    "(H0_values>altr_hypo).mean()"
   ]
  },
  {
   "cell_type": "markdown",
   "id": "55e1eedd",
   "metadata": {},
   "source": [
    "- P_value < 0.05 as 0.0354 < 0.05, so the null hypothesis(H0) rejected."
   ]
  }
 ],
 "metadata": {
  "kernelspec": {
   "display_name": "Python 3",
   "language": "python",
   "name": "python3"
  },
  "language_info": {
   "codemirror_mode": {
    "name": "ipython",
    "version": 3
   },
   "file_extension": ".py",
   "mimetype": "text/x-python",
   "name": "python",
   "nbconvert_exporter": "python",
   "pygments_lexer": "ipython3",
   "version": "3.8.8"
  }
 },
 "nbformat": 4,
 "nbformat_minor": 5
}
